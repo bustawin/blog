{
 "cells": [
  {
   "cell_type": "code",
   "execution_count": 1,
   "id": "74d2da6b-1716-4a20-bf9a-27174c937dca",
   "metadata": {
    "tags": []
   },
   "outputs": [
    {
     "name": "stdout",
     "output_type": "stream",
     "text": [
      "Collecting pandas\n",
      "  Using cached pandas-1.3.0-cp39-cp39-macosx_10_9_x86_64.whl (11.6 MB)\n",
      "Requirement already satisfied: python-dateutil>=2.7.3 in /Users/bustawin/repos/venvs/blog/lib/python3.9/site-packages (from pandas) (2.8.2)\n",
      "Requirement already satisfied: pytz>=2017.3 in /Users/bustawin/repos/venvs/blog/lib/python3.9/site-packages (from pandas) (2021.1)\n",
      "Collecting numpy>=1.17.3\n",
      "  Using cached numpy-1.21.0-cp39-cp39-macosx_10_9_x86_64.whl (16.9 MB)\n",
      "Requirement already satisfied: six>=1.5 in /Users/bustawin/repos/venvs/blog/lib/python3.9/site-packages (from python-dateutil>=2.7.3->pandas) (1.16.0)\n",
      "Installing collected packages: numpy, pandas\n",
      "Successfully installed numpy-1.21.0 pandas-1.3.0\n"
     ]
    }
   ],
   "source": [
    "%run '0 setup.ipynb'"
   ]
  },
  {
   "cell_type": "markdown",
   "id": "838fbc2a-1038-4f27-8922-121afaf97b0b",
   "metadata": {
    "tags": []
   },
   "source": [
    "# Get a dataset"
   ]
  },
  {
   "cell_type": "code",
   "execution_count": 2,
   "id": "d20b1c18-e2ea-441e-8fa6-4a047eedc483",
   "metadata": {
    "tags": []
   },
   "outputs": [
    {
     "data": {
      "text/html": [
       "<div>\n",
       "<style scoped>\n",
       "    .dataframe tbody tr th:only-of-type {\n",
       "        vertical-align: middle;\n",
       "    }\n",
       "\n",
       "    .dataframe tbody tr th {\n",
       "        vertical-align: top;\n",
       "    }\n",
       "\n",
       "    .dataframe thead th {\n",
       "        text-align: right;\n",
       "    }\n",
       "</style>\n",
       "<table border=\"1\" class=\"dataframe\">\n",
       "  <thead>\n",
       "    <tr style=\"text-align: right;\">\n",
       "      <th></th>\n",
       "      <th>Created</th>\n",
       "      <th>Station</th>\n",
       "      <th>Measure</th>\n",
       "      <th>Value</th>\n",
       "    </tr>\n",
       "  </thead>\n",
       "  <tbody>\n",
       "    <tr>\n",
       "      <th>0</th>\n",
       "      <td>2020-01-01</td>\n",
       "      <td>D5</td>\n",
       "      <td>TM</td>\n",
       "      <td>7.0</td>\n",
       "    </tr>\n",
       "    <tr>\n",
       "      <th>1</th>\n",
       "      <td>2020-01-01</td>\n",
       "      <td>D5</td>\n",
       "      <td>TX</td>\n",
       "      <td>11.5</td>\n",
       "    </tr>\n",
       "    <tr>\n",
       "      <th>2</th>\n",
       "      <td>2020-01-01</td>\n",
       "      <td>D5</td>\n",
       "      <td>TN</td>\n",
       "      <td>4.6</td>\n",
       "    </tr>\n",
       "    <tr>\n",
       "      <th>3</th>\n",
       "      <td>2020-01-01</td>\n",
       "      <td>D5</td>\n",
       "      <td>HRM</td>\n",
       "      <td>81.0</td>\n",
       "    </tr>\n",
       "    <tr>\n",
       "      <th>4</th>\n",
       "      <td>2020-01-01</td>\n",
       "      <td>D5</td>\n",
       "      <td>HRX</td>\n",
       "      <td>91.0</td>\n",
       "    </tr>\n",
       "    <tr>\n",
       "      <th>...</th>\n",
       "      <td>...</td>\n",
       "      <td>...</td>\n",
       "      <td>...</td>\n",
       "      <td>...</td>\n",
       "    </tr>\n",
       "    <tr>\n",
       "      <th>17102</th>\n",
       "      <td>2020-12-01</td>\n",
       "      <td>X8</td>\n",
       "      <td>RS24h</td>\n",
       "      <td>6.2</td>\n",
       "    </tr>\n",
       "    <tr>\n",
       "      <th>17103</th>\n",
       "      <td>2020-12-01</td>\n",
       "      <td>X8</td>\n",
       "      <td>VVM10</td>\n",
       "      <td>2.1</td>\n",
       "    </tr>\n",
       "    <tr>\n",
       "      <th>17104</th>\n",
       "      <td>2020-12-01</td>\n",
       "      <td>X8</td>\n",
       "      <td>DVM10</td>\n",
       "      <td>296.0</td>\n",
       "    </tr>\n",
       "    <tr>\n",
       "      <th>17105</th>\n",
       "      <td>2020-12-01</td>\n",
       "      <td>X8</td>\n",
       "      <td>VVX10</td>\n",
       "      <td>7.8</td>\n",
       "    </tr>\n",
       "    <tr>\n",
       "      <th>17106</th>\n",
       "      <td>2020-12-01</td>\n",
       "      <td>X8</td>\n",
       "      <td>DVVX10</td>\n",
       "      <td>315.0</td>\n",
       "    </tr>\n",
       "  </tbody>\n",
       "</table>\n",
       "<p>17107 rows × 4 columns</p>\n",
       "</div>"
      ],
      "text/plain": [
       "         Created Station Measure  Value\n",
       "0     2020-01-01      D5      TM    7.0\n",
       "1     2020-01-01      D5      TX   11.5\n",
       "2     2020-01-01      D5      TN    4.6\n",
       "3     2020-01-01      D5     HRM   81.0\n",
       "4     2020-01-01      D5     HRX   91.0\n",
       "...          ...     ...     ...    ...\n",
       "17102 2020-12-01      X8   RS24h    6.2\n",
       "17103 2020-12-01      X8   VVM10    2.1\n",
       "17104 2020-12-01      X8   DVM10  296.0\n",
       "17105 2020-12-01      X8   VVX10    7.8\n",
       "17106 2020-12-01      X8  DVVX10  315.0\n",
       "\n",
       "[17107 rows x 4 columns]"
      ]
     },
     "execution_count": 2,
     "metadata": {},
     "output_type": "execute_result"
    }
   ],
   "source": [
    "df = pd.read_csv(\n",
    "    \"bcn-meteo-2020.csv\",\n",
    "    header=0,\n",
    "    names=[\"Created\", \"Created hour\",\"Station\", \"Measure\", \"Value\"],\n",
    "    usecols=[\"Created\", \"Station\", \"Measure\", \"Value\"],\n",
    "    parse_dates=[0]\n",
    ")\n",
    "df"
   ]
  },
  {
   "cell_type": "markdown",
   "id": "4e105b86-55b6-4a03-b6cf-217b2458b21c",
   "metadata": {
    "tags": []
   },
   "source": [
    "# Create"
   ]
  },
  {
   "cell_type": "markdown",
   "id": "cbec3c7b-94f2-4c12-85a6-a8ed4cce3d49",
   "metadata": {},
   "source": [
    "We test setting a column called \"Name\" which is composed by concatenating the Station and Measure row with a hyphen. So, for example, for the first row: `D5-TM`.\n",
    "\n",
    "#### iterrows"
   ]
  },
  {
   "cell_type": "code",
   "execution_count": 3,
   "id": "0cbf6a3a-9ed4-428f-8369-6cc0ca8c53e6",
   "metadata": {
    "tags": []
   },
   "outputs": [
    {
     "name": "stdout",
     "output_type": "stream",
     "text": [
      "609 ms ± 21.6 ms per loop (mean ± std. dev. of 7 runs, 1 loop each)\n",
      "D5-TM\n"
     ]
    }
   ],
   "source": [
    "%timeit df[\"Name\"] = [row[\"Station\"] + \"-\" + row[\"Measure\"] for index, row in df.iterrows()]\n",
    "print(df[\"Name\"].iloc[0])"
   ]
  },
  {
   "cell_type": "markdown",
   "id": "ee149e2b-9e81-4060-9d80-be5665a47123",
   "metadata": {},
   "source": [
    "#### itertuples"
   ]
  },
  {
   "cell_type": "code",
   "execution_count": 4,
   "id": "64d9638c-2f59-4c8e-9ed5-5291d1f80af5",
   "metadata": {},
   "outputs": [
    {
     "name": "stdout",
     "output_type": "stream",
     "text": [
      "19.6 ms ± 539 µs per loop (mean ± std. dev. of 7 runs, 100 loops each)\n",
      "D5-TM\n"
     ]
    }
   ],
   "source": [
    "%timeit df[\"Name\"] = [row.Station + \"-\" + row.Measure for row in df.itertuples()]\n",
    "print(df[\"Name\"].iloc[0])"
   ]
  },
  {
   "cell_type": "markdown",
   "id": "242a83a0-2b86-4f07-93c9-78f86c2a2064",
   "metadata": {},
   "source": [
    "#### apply "
   ]
  },
  {
   "cell_type": "code",
   "execution_count": 5,
   "id": "ec81e29d-64e2-4c95-b803-ad5a166dd805",
   "metadata": {},
   "outputs": [
    {
     "name": "stdout",
     "output_type": "stream",
     "text": [
      "177 ms ± 8.06 ms per loop (mean ± std. dev. of 7 runs, 10 loops each)\n",
      "D5-TM\n"
     ]
    }
   ],
   "source": [
    "%timeit df[\"Name\"] = df.apply(lambda row: row[\"Station\"] + \"-\" + row[\"Measure\"], axis=1)\n",
    "print(df[\"Name\"].iloc[0])"
   ]
  },
  {
   "cell_type": "markdown",
   "id": "15e2aecd-bc35-4de0-bdbe-317dcec6b96f",
   "metadata": {},
   "source": [
    "#### Builtin vectorized"
   ]
  },
  {
   "cell_type": "code",
   "execution_count": 6,
   "id": "adb56c35-734b-4a8e-9b6a-8b06827f80d8",
   "metadata": {},
   "outputs": [
    {
     "name": "stdout",
     "output_type": "stream",
     "text": [
      "4.31 ms ± 434 µs per loop (mean ± std. dev. of 7 runs, 100 loops each)\n",
      "D5-TM\n"
     ]
    }
   ],
   "source": [
    "%timeit df[\"Name\"] = df[\"Station\"].str.cat(df[\"Measure\"], sep=\"-\")\n",
    "print(df[\"Name\"].iloc[0])"
   ]
  },
  {
   "cell_type": "code",
   "execution_count": 7,
   "id": "811995bc-8664-4b39-b01d-3b4fd02ee317",
   "metadata": {
    "tags": []
   },
   "outputs": [
    {
     "name": "stdout",
     "output_type": "stream",
     "text": [
      "1.69 ms ± 64.8 µs per loop (mean ± std. dev. of 7 runs, 1000 loops each)\n"
     ]
    }
   ],
   "source": [
    "%timeit [val for val in df[\"Value\"] if val > 20]"
   ]
  },
  {
   "cell_type": "code",
   "execution_count": 8,
   "id": "e212a5d0-da20-4e8d-acc8-0fdb83efea40",
   "metadata": {},
   "outputs": [
    {
     "name": "stdout",
     "output_type": "stream",
     "text": [
      "67.6 µs ± 3.31 µs per loop (mean ± std. dev. of 7 runs, 10000 loops each)\n"
     ]
    }
   ],
   "source": [
    "%timeit df[\"Value\"] > 20"
   ]
  }
 ],
 "metadata": {
  "kernelspec": {
   "display_name": "Python 3 (ipykernel)",
   "language": "python",
   "name": "python3"
  },
  "language_info": {
   "codemirror_mode": {
    "name": "ipython",
    "version": 3
   },
   "file_extension": ".py",
   "mimetype": "text/x-python",
   "name": "python",
   "nbconvert_exporter": "python",
   "pygments_lexer": "ipython3",
   "version": "3.9.6"
  }
 },
 "nbformat": 4,
 "nbformat_minor": 5
}
